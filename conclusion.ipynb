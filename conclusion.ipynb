{
 "cells": [
  {
   "attachments": {},
   "cell_type": "markdown",
   "metadata": {},
   "source": [
    "After reviewing the data, Aerofit should market the KP281 and KP481 as their standard models, while the KP781 should be marketed as their luxury model that is only for high level athletes. Aerofit should market primarmily to customers in their 20s since they hold 61% of the market. \n",
    "\n",
    "The KP281 and KP481 should be marketed as the standard models for beginners and average level fitness customers. Customers seem to be indifferent when purchasing either the KP281 and KP481, so they should be marketed together as the \"affordable\" models. \n",
    "\n",
    "The KP781 should be marketed towards a more high end group of customers who's income is much greater than those looking at the KP281 and KP481. This model should be marketed almost exclusively to high educated and high income customers who have a high fitness level and high average weekly mileage.\n",
    "\n",
    "Since age and income are positvely correlated, Aerofit may benefit from marketing to an older customer base in order to drive up sales on the KP781.\n",
    "Aerofit may also benefit from marketing the KP481 over the KP281 since customers are generally indifferent when looking at price on the standard model treadmills"
   ]
  }
 ],
 "metadata": {
  "kernelspec": {
   "display_name": "Python 3",
   "language": "python",
   "name": "python3"
  },
  "language_info": {
   "codemirror_mode": {
    "name": "ipython",
    "version": 3
   },
   "file_extension": ".py",
   "mimetype": "text/x-python",
   "name": "python",
   "nbconvert_exporter": "python",
   "pygments_lexer": "ipython3",
   "version": "3.12.1"
  },
  "orig_nbformat": 4
 },
 "nbformat": 4,
 "nbformat_minor": 2
}
